{
 "cells": [
  {
   "cell_type": "markdown",
   "id": "18a942d3",
   "metadata": {},
   "source": [
    "Q1"
   ]
  },
  {
   "cell_type": "code",
   "execution_count": 7,
   "id": "49e0fa3e",
   "metadata": {},
   "outputs": [
    {
     "name": "stdout",
     "output_type": "stream",
     "text": [
      "           X          Y Unique Squirrel ID Hectare Shift      Date  \\\n",
      "0 -73.956134  40.794082     37F-PM-1014-03     37F    PM  10142018   \n",
      "1 -73.968857  40.783783     21B-AM-1019-04     21B    AM  10192018   \n",
      "2 -73.974281  40.775534     11B-PM-1014-08     11B    PM  10142018   \n",
      "3 -73.959641  40.790313     32E-PM-1017-14     32E    PM  10172018   \n",
      "4 -73.970268  40.776213     13E-AM-1017-05     13E    AM  10172018   \n",
      "\n",
      "   Hectare Squirrel Number    Age Primary Fur Color Highlight Fur Color  ...  \\\n",
      "0                        3    NaN               NaN                 NaN  ...   \n",
      "1                        4    NaN               NaN                 NaN  ...   \n",
      "2                        8    NaN              Gray                 NaN  ...   \n",
      "3                       14  Adult              Gray                 NaN  ...   \n",
      "4                        5  Adult              Gray            Cinnamon  ...   \n",
      "\n",
      "    Kuks  Quaas  Moans Tail flags Tail twitches  Approaches  Indifferent  \\\n",
      "0  False  False  False      False         False       False        False   \n",
      "1  False  False  False      False         False       False        False   \n",
      "2  False  False  False      False         False       False        False   \n",
      "3  False  False  False      False         False       False        False   \n",
      "4  False  False  False      False         False       False        False   \n",
      "\n",
      "   Runs from  Other Interactions                                    Lat/Long  \n",
      "0      False                 NaN  POINT (-73.9561344937861 40.7940823884086)  \n",
      "1      False                 NaN  POINT (-73.9688574691102 40.7837825208444)  \n",
      "2      False                 NaN  POINT (-73.97428114848522 40.775533619083)  \n",
      "3       True                 NaN  POINT (-73.9596413903948 40.7903128889029)  \n",
      "4      False                 NaN  POINT (-73.9702676472613 40.7762126854894)  \n",
      "\n",
      "[5 rows x 31 columns]\n",
      "These data is missing:\n",
      "X                                                0\n",
      "Y                                                0\n",
      "Unique Squirrel ID                               0\n",
      "Hectare                                          0\n",
      "Shift                                            0\n",
      "Date                                             0\n",
      "Hectare Squirrel Number                          0\n",
      "Age                                            121\n",
      "Primary Fur Color                               55\n",
      "Highlight Fur Color                           1086\n",
      "Combination of Primary and Highlight Color       0\n",
      "Color notes                                   2841\n",
      "Location                                        64\n",
      "Above Ground Sighter Measurement               114\n",
      "Specific Location                             2547\n",
      "Running                                          0\n",
      "Chasing                                          0\n",
      "Climbing                                         0\n",
      "Eating                                           0\n",
      "Foraging                                         0\n",
      "Other Activities                              2586\n",
      "Kuks                                             0\n",
      "Quaas                                            0\n",
      "Moans                                            0\n",
      "Tail flags                                       0\n",
      "Tail twitches                                    0\n",
      "Approaches                                       0\n",
      "Indifferent                                      0\n",
      "Runs from                                        0\n",
      "Other Interactions                            2783\n",
      "Lat/Long                                         0\n",
      "dtype: int64\n"
     ]
    }
   ],
   "source": [
    "import pandas as pd\n",
    "url =  \"https://data.cityofnewyork.us/api/views/vfnx-vebw/rows.csv?accessType=DOWNLOAD\"\n",
    "pd.read_csv(url) \n",
    "print(df.head())\n",
    "Missing_dataset = df. isna(). sum()\n",
    "print (\"These data is missing:\")\n",
    "print (Missing_dataset)"
   ]
  },
  {
   "cell_type": "markdown",
   "id": "b201f201",
   "metadata": {},
   "source": [
    "Q2"
   ]
  },
  {
   "cell_type": "code",
   "execution_count": 6,
   "id": "e90f635d",
   "metadata": {},
   "outputs": [
    {
     "name": "stdout",
     "output_type": "stream",
     "text": [
      "The DataFrame has 3023 rows and 31 columns.\n"
     ]
    }
   ],
   "source": [
    "import pandas as pd\n",
    "\n",
    "# Load the CSV data into a DataFrame\n",
    "url = \"https://data.cityofnewyork.us/api/views/vfnx-vebw/rows.csv?accessType=DOWNLOAD\"\n",
    "df = pd.read_csv(url)\n",
    "\n",
    "# Get the number of rows and columns\n",
    "rows, columns = df.shape\n",
    "\n",
    "print(f\"The DataFrame has {rows} rows and {columns} columns.\")\n"
   ]
  },
  {
   "cell_type": "markdown",
   "id": "b48f198e",
   "metadata": {},
   "source": [
    "Base on GPT's answer, I think observation means the way we observe the data, and it usually appears in the heading, just like date, ID. Variables are the way we describe the data, like 3，37F-PM-1014-03."
   ]
  },
  {
   "cell_type": "markdown",
   "id": "fc2f84ac",
   "metadata": {},
   "source": [
    "Q3"
   ]
  },
  {
   "cell_type": "code",
   "execution_count": 1,
   "id": "475a730b",
   "metadata": {},
   "outputs": [
    {
     "name": "stdout",
     "output_type": "stream",
     "text": [
      "<class 'pandas.core.frame.DataFrame'>\n",
      "RangeIndex: 3023 entries, 0 to 3022\n",
      "Data columns (total 31 columns):\n",
      " #   Column                                      Non-Null Count  Dtype  \n",
      "---  ------                                      --------------  -----  \n",
      " 0   X                                           3023 non-null   float64\n",
      " 1   Y                                           3023 non-null   float64\n",
      " 2   Unique Squirrel ID                          3023 non-null   object \n",
      " 3   Hectare                                     3023 non-null   object \n",
      " 4   Shift                                       3023 non-null   object \n",
      " 5   Date                                        3023 non-null   int64  \n",
      " 6   Hectare Squirrel Number                     3023 non-null   int64  \n",
      " 7   Age                                         2902 non-null   object \n",
      " 8   Primary Fur Color                           2968 non-null   object \n",
      " 9   Highlight Fur Color                         1937 non-null   object \n",
      " 10  Combination of Primary and Highlight Color  3023 non-null   object \n",
      " 11  Color notes                                 182 non-null    object \n",
      " 12  Location                                    2959 non-null   object \n",
      " 13  Above Ground Sighter Measurement            2909 non-null   object \n",
      " 14  Specific Location                           476 non-null    object \n",
      " 15  Running                                     3023 non-null   bool   \n",
      " 16  Chasing                                     3023 non-null   bool   \n",
      " 17  Climbing                                    3023 non-null   bool   \n",
      " 18  Eating                                      3023 non-null   bool   \n",
      " 19  Foraging                                    3023 non-null   bool   \n",
      " 20  Other Activities                            437 non-null    object \n",
      " 21  Kuks                                        3023 non-null   bool   \n",
      " 22  Quaas                                       3023 non-null   bool   \n",
      " 23  Moans                                       3023 non-null   bool   \n",
      " 24  Tail flags                                  3023 non-null   bool   \n",
      " 25  Tail twitches                               3023 non-null   bool   \n",
      " 26  Approaches                                  3023 non-null   bool   \n",
      " 27  Indifferent                                 3023 non-null   bool   \n",
      " 28  Runs from                                   3023 non-null   bool   \n",
      " 29  Other Interactions                          240 non-null    object \n",
      " 30  Lat/Long                                    3023 non-null   object \n",
      "dtypes: bool(13), float64(2), int64(2), object(14)\n",
      "memory usage: 463.6+ KB\n",
      "None\n",
      "                 X            Y          Date  Hectare Squirrel Number\n",
      "count  3023.000000  3023.000000  3.023000e+03              3023.000000\n",
      "mean    -73.967184    40.780853  1.011949e+07                 4.123718\n",
      "std       0.007726     0.010285  4.246671e+04                 3.096492\n",
      "min     -73.981159    40.764911  1.006202e+07                 1.000000\n",
      "25%     -73.973102    40.771676  1.008202e+07                 2.000000\n",
      "50%     -73.968594    40.778166  1.012202e+07                 3.000000\n",
      "75%     -73.960189    40.791219  1.014202e+07                 6.000000\n",
      "max     -73.949722    40.800119  1.020202e+07                23.000000\n",
      "           X          Y Unique Squirrel ID Hectare Shift      Date  \\\n",
      "0 -73.956134  40.794082     37F-PM-1014-03     37F    PM  10142018   \n",
      "1 -73.968857  40.783783     21B-AM-1019-04     21B    AM  10192018   \n",
      "2 -73.974281  40.775534     11B-PM-1014-08     11B    PM  10142018   \n",
      "3 -73.959641  40.790313     32E-PM-1017-14     32E    PM  10172018   \n",
      "4 -73.970268  40.776213     13E-AM-1017-05     13E    AM  10172018   \n",
      "\n",
      "   Hectare Squirrel Number    Age Primary Fur Color Highlight Fur Color  ...  \\\n",
      "0                        3    NaN               NaN                 NaN  ...   \n",
      "1                        4    NaN               NaN                 NaN  ...   \n",
      "2                        8    NaN              Gray                 NaN  ...   \n",
      "3                       14  Adult              Gray                 NaN  ...   \n",
      "4                        5  Adult              Gray            Cinnamon  ...   \n",
      "\n",
      "    Kuks  Quaas  Moans Tail flags Tail twitches  Approaches  Indifferent  \\\n",
      "0  False  False  False      False         False       False        False   \n",
      "1  False  False  False      False         False       False        False   \n",
      "2  False  False  False      False         False       False        False   \n",
      "3  False  False  False      False         False       False        False   \n",
      "4  False  False  False      False         False       False        False   \n",
      "\n",
      "   Runs from  Other Interactions                                    Lat/Long  \n",
      "0      False                 NaN  POINT (-73.9561344937861 40.7940823884086)  \n",
      "1      False                 NaN  POINT (-73.9688574691102 40.7837825208444)  \n",
      "2      False                 NaN  POINT (-73.97428114848522 40.775533619083)  \n",
      "3       True                 NaN  POINT (-73.9596413903948 40.7903128889029)  \n",
      "4      False                 NaN  POINT (-73.9702676472613 40.7762126854894)  \n",
      "\n",
      "[5 rows x 31 columns]\n",
      "       Unique Squirrel ID Hectare Shift    Age Primary Fur Color  \\\n",
      "count                3023    3023  3023   2902              2968   \n",
      "unique               3018     339     2      3                 3   \n",
      "top         7D-PM-1010-01     14D    PM  Adult              Gray   \n",
      "freq                    2      32  1676   2568              2473   \n",
      "\n",
      "       Highlight Fur Color Combination of Primary and Highlight Color  \\\n",
      "count                 1937                                       3023   \n",
      "unique                  10                                         22   \n",
      "top               Cinnamon                                      Gray+   \n",
      "freq                   767                                        895   \n",
      "\n",
      "                                              Color notes      Location  \\\n",
      "count                                                 182          2959   \n",
      "unique                                                135             2   \n",
      "top     Gray & Cinnamon selected as Primary. White sel...  Ground Plane   \n",
      "freq                                                    9          2116   \n",
      "\n",
      "       Above Ground Sighter Measurement Specific Location Other Activities  \\\n",
      "count                              2909               476              437   \n",
      "unique                               41               304              307   \n",
      "top                               FALSE              tree          digging   \n",
      "freq                               2116                43               19   \n",
      "\n",
      "       Other Interactions                                    Lat/Long  \n",
      "count                 240                                        3023  \n",
      "unique                197                                        3023  \n",
      "top       runs from (dog)  POINT (-73.9561344937861 40.7940823884086)  \n",
      "freq                    9                                           1  \n"
     ]
    }
   ],
   "source": [
    "import pandas as pd\n",
    "\n",
    "# Load the CSV data into a DataFrame\n",
    "url = \"https://data.cityofnewyork.us/api/views/vfnx-vebw/rows.csv?accessType=DOWNLOAD\"\n",
    "df = pd.read_csv(url)\n",
    "\n",
    "# Get an overview of the column names and their data types\n",
    "print(df.info())\n",
    "\n",
    "# Get a summary of numerical columns\n",
    "print(df.describe())\n",
    "\n",
    "# Get the first few rows to see a sample of the data\n",
    "print(df.head())\n",
    "\n",
    "# Get a summary of non-numeric columns (categorical)\n",
    "print(df.describe(include='object'))\n"
   ]
  },
  {
   "cell_type": "markdown",
   "id": "4b889ad7",
   "metadata": {},
   "source": [
    "Q4"
   ]
  },
  {
   "cell_type": "code",
   "execution_count": 2,
   "id": "3c346942",
   "metadata": {},
   "outputs": [
    {
     "name": "stdout",
     "output_type": "stream",
     "text": [
      "                 X            Y          Date  Hectare Squirrel Number\n",
      "count  3023.000000  3023.000000  3.023000e+03              3023.000000\n",
      "mean    -73.967184    40.780853  1.011949e+07                 4.123718\n",
      "std       0.007726     0.010285  4.246671e+04                 3.096492\n",
      "min     -73.981159    40.764911  1.006202e+07                 1.000000\n",
      "25%     -73.973102    40.771676  1.008202e+07                 2.000000\n",
      "50%     -73.968594    40.778166  1.012202e+07                 3.000000\n",
      "75%     -73.960189    40.791219  1.014202e+07                 6.000000\n",
      "max     -73.949722    40.800119  1.020202e+07                23.000000\n"
     ]
    }
   ],
   "source": [
    "import pandas as pd\n",
    "\n",
    "# Load the CSV data into a DataFrame\n",
    "url = \"https://data.cityofnewyork.us/api/views/vfnx-vebw/rows.csv?accessType=DOWNLOAD\"\n",
    "df = pd.read_csv(url)\n",
    "\n",
    "# Get a summary of only numerical columns\n",
    "numerical_summary = df.describe()\n",
    "\n",
    "print(numerical_summary)\n"
   ]
  },
  {
   "cell_type": "markdown",
   "id": "19010c47",
   "metadata": {},
   "source": [
    "df.shape shows the size of the data, it gives us total number of rows and columns. however, df.describe() shows only numeric columns."
   ]
  },
  {
   "cell_type": "raw",
   "id": "85461bb8",
   "metadata": {},
   "source": [
    "Q5\n",
    "An \"attribute\" is a certain object or data which does not need an argument, when you type it and run it, it will give you the value. A \"method\" can be the way Python deal with data, such as functions. "
   ]
  },
  {
   "cell_type": "markdown",
   "id": "3e466d0e",
   "metadata": {},
   "source": [
    "\n",
    "Here’s a summary of our recent chat sessions:\n",
    "\n",
    "Pandas DataFrame Dimensions:\n",
    "\n",
    "You asked how to find the number of columns and rows in a pandas DataFrame. I explained that you can use the .shape attribute for this purpose.\n",
    "Observation and Variables:\n",
    "\n",
    "I provided an explanation of what observations (rows) and variables (columns) are in the context of a dataset. Observations represent individual cases or entities, while variables describe different characteristics or attributes of those observations.\n",
    "Summarizing Columns:\n",
    "\n",
    "You asked about summarizing columns. I outlined how to use the describe() function to summarize numerical data and provided code snippets for getting an overview of data types, statistics, and samples.\n",
    "Difference Between df.shape and df.describe():\n",
    "\n",
    "I clarified that df.shape provides the dimensions of a DataFrame (rows and columns), while df.describe() gives a statistical summary of numerical columns.\n",
    "Attribute vs. Method:\n",
    "\n",
    "I explained the difference between attributes and methods in programming. Attributes are variables that hold data about an object, while methods are functions that define the behavior of the object.\n",
    "\n",
    "https://chatgpt.com/share/83b91a46-4c56-4075-be8c-1fc6210ac3e3"
   ]
  },
  {
   "cell_type": "markdown",
   "id": "7a91a575",
   "metadata": {},
   "source": [
    "Q6\n",
    "Count: Number of non-missing values.\n",
    "Mean: Average of the sum of all values.\n",
    "Std: Standard deviation, a value used to measure how data spread.\n",
    "Min: The smallest value.\n",
    "25%: First quartile, 25% of data is below this value.\n",
    "50%: Median, 50% of data is below this value.\n",
    "75%: Third quartile, 75% of data is below this value.\n",
    "Max: the greatest value."
   ]
  },
  {
   "cell_type": "markdown",
   "id": "18127ac6",
   "metadata": {},
   "source": [
    "Q7.1\n",
    "When we want to keep as much data as possible, and just delete NaN values, we use df.dropna()\n",
    "Q7.2\n",
    "When one of the columns is almost entirely missing or irrelevant, and retaining some NaN values is not useful, we use del df ['col']\n",
    "Q7.3\n",
    "These codes can help us improve our efficiency by simplify the code without damage important data.\n",
    "Q7.4\n",
    "I would use df.dropna() first because some deta like specific location has over 2,000 missing data, then using del df ['col'] delete data with fewer missing."
   ]
  },
  {
   "cell_type": "markdown",
   "id": "0cdb293e",
   "metadata": {},
   "source": [
    "Q8.1\n",
    "This code can help us groups the values, col1 and col2 mean the column you choose, describe() will provide statistical features of the data.\n",
    "Q8.2\n",
    "df.describe() uses for all the columns, while  df.groupby(\"col1\")[\"col2\"].describe() uses for groups\n",
    "Q8.3A\n",
    "I prefer GPT since it provides quick and helpful answer, while Google offers more examples from different communities.\n",
    "Q8.3B\n",
    "GPT directly points out that there may have typo issue, while Google still provides me with community experience.\n",
    "Q8.3C\n",
    "Both of them are helpful, but I prefer GPT since it is easier as it directly point out the issues and improve my code for me.\n",
    "Q8.3D\n",
    "Both of them are helpful, they all quickly point out the missing )\n",
    "Q8.3E\n",
    "GPT response quickly and give me a code which has already been fixed, Google provide me examples help me learn.\n",
    "Q8.3F\n",
    "They all help me a lot, while GPT is more quickly, Google is more specific.\n",
    "Q8.3G\n",
    "Google and GPT are both useful, and Google base on examples while GPT just gives me answers."
   ]
  },
  {
   "cell_type": "markdown",
   "id": "22a71854",
   "metadata": {},
   "source": [
    "Here’s a summary of our chat sessions:\n",
    "\n",
    "Initial Titanic Dataset Analysis:\n",
    "\n",
    "You wanted to perform initial summary analyses on the Titanic dataset and asked for help understanding the code.\n",
    "We discussed loading the dataset, inspecting its shape, and grouping data to get descriptive statistics.\n",
    "Code Review and Corrections:\n",
    "\n",
    "Loading Data: You correctly loaded the Titanic dataset using pd.read_csv(url) and checked the shape of the DataFrame.\n",
    "Grouping and Describing: You had a typo in column names and a misplaced line in your code, which was corrected to properly group the data by 'sex' and describe the 'age' column.\n",
    "Error Troubleshooting:\n",
    "\n",
    "We addressed errors like NameError due to incorrect variable names and FileNotFoundError for missing files.\n",
    "Ensured correct syntax for grouping and describing data, emphasizing the importance of using the correct DataFrame name and column names.\n",
    "Final Code Correction:\n",
    "\n",
    "The corrected code to group by 'sex' and describe the 'age' column was provided, and the importance of using correct column names and DataFrame names was highlighted.\n",
    "https://chatgpt.com/share/90d6d5f3-04f2-4a94-a6cc-b57034cc8314"
   ]
  }
 ],
 "metadata": {
  "kernelspec": {
   "display_name": "Python 3 (ipykernel)",
   "language": "python",
   "name": "python3"
  },
  "language_info": {
   "codemirror_mode": {
    "name": "ipython",
    "version": 3
   },
   "file_extension": ".py",
   "mimetype": "text/x-python",
   "name": "python",
   "nbconvert_exporter": "python",
   "pygments_lexer": "ipython3",
   "version": "3.11.6"
  }
 },
 "nbformat": 4,
 "nbformat_minor": 5
}
