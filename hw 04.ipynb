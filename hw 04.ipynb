{
 "cells": [
  {
   "cell_type": "markdown",
   "id": "e0014ec5",
   "metadata": {},
   "source": [
    "Q1"
   ]
  },
  {
   "cell_type": "markdown",
   "id": "29051d53",
   "metadata": {},
   "source": [
    "Standard deviation measures the degree of dispersion of data relative to the mean and reflects the fluctuation of individual data. The standard error measures the fluctuation of the sample mean relative to the population mean, reflecting the accuracy of the sample mean in estimating the population mean. The standard error decreases as the sample size increases and is often used for statistical inference."
   ]
  },
  {
   "cell_type": "markdown",
   "id": "1cf3326e",
   "metadata": {},
   "source": [
    "Q2"
   ]
  },
  {
   "cell_type": "markdown",
   "id": "b67f3fbf",
   "metadata": {},
   "source": [
    "To calculate the 95% confidence interval by standard error, first calculate the standard error for the sample. Then, the upper and lower bounds of the confidence interval are determined by adding or subtracting 1.96 times the standard error of the sample mean. 1.96 is a constant based on the normal distribution, representing the range covered by both sides of the mean at the 95% confidence level. This means that there is a 95% chance that the sample mean will fall within this range, and therefore the population mean will also fall within this range."
   ]
  },
  {
   "cell_type": "markdown",
   "id": "b36575ea",
   "metadata": {},
   "source": [
    "Q3"
   ]
  },
  {
   "cell_type": "markdown",
   "id": "0f8ee955",
   "metadata": {},
   "source": [
    "To create a 95% confidence interval with bootstrapped sample, you first need to randomly draw multiple bootstrapped samples from the raw data and calculate the mean of each sample. Next, find the 2.5% and 97.5% percentiles using the np.quantile() function, the code for which is np.quantile(bootstrap_means, 0.025) and np.quantile(bootstrap_means, 0.975). This means that 95% of the bootstrapped sample mean is contained in this interval, and thus the overall mean is inferred to be in this interval as well. This approach builds the interval directly based on the bootstrapped sample distribution without relying on estimates of standard errors."
   ]
  },
  {
   "cell_type": "markdown",
   "id": "706767c7",
   "metadata": {},
   "source": [
    "Q4"
   ]
  },
  {
   "cell_type": "code",
   "execution_count": 1,
   "id": "e3f0939c",
   "metadata": {},
   "outputs": [
    {
     "name": "stdout",
     "output_type": "stream",
     "text": [
      "95% Confidence Interval: [18.5, 36.0]\n"
     ]
    }
   ],
   "source": [
    "import numpy as np\n",
    "\n",
    "# Function to perform bootstrapping and calculate the confidence interval\n",
    "def bootstrap_confidence_interval(data, num_bootstrap_samples=1000, confidence_level=0.95):\n",
    "    \"\"\"\n",
    "    Create a 95% bootstrapped confidence interval using bootstrapped means.\n",
    "    \n",
    "    Parameters:\n",
    "    - data: The original dataset (a list or NumPy array).\n",
    "    - num_bootstrap_samples: Number of bootstrap samples to generate (default 1000).\n",
    "    - confidence_level: The confidence level for the interval (default 0.95).\n",
    "    \n",
    "    Returns:\n",
    "    - A tuple (lower_bound, upper_bound) representing the confidence interval.\n",
    "    \"\"\"\n",
    "    \n",
    "    # Number of data points in the original dataset\n",
    "    n = len(data)\n",
    "    \n",
    "    # Array to store the bootstrapped means\n",
    "    boot_means = []\n",
    "    \n",
    "    # Perform bootstrapping\n",
    "    for _ in range(num_bootstrap_samples):\n",
    "        # Create a bootstrap sample by sampling with replacement from the original data\n",
    "        bootstrap_sample = np.random.choice(data, size=n, replace=True)\n",
    "        # Calculate the mean of the bootstrap sample and store it\n",
    "        boot_means.append(np.mean(bootstrap_sample))\n",
    "    \n",
    "    # Convert boot_means to a NumPy array for easier percentile calculation\n",
    "    boot_means = np.array(boot_means)\n",
    "    \n",
    "    # Calculate the percentiles for the confidence interval\n",
    "    lower_bound = np.quantile(boot_means, (1 - confidence_level) / 2)  # 2.5th percentile\n",
    "    upper_bound = np.quantile(boot_means, 1 - (1 - confidence_level) / 2)  # 97.5th percentile\n",
    "    \n",
    "    return lower_bound, upper_bound\n",
    "\n",
    "# Example usage\n",
    "data = [5, 10, 15, 20, 25, 30, 35, 40, 45, 50]  # Example dataset\n",
    "lower_ci, upper_ci = bootstrap_confidence_interval(data)\n",
    "print(f\"95% Confidence Interval: [{lower_ci}, {upper_ci}]\")\n"
   ]
  },
  {
   "cell_type": "markdown",
   "id": "c8d4e112",
   "metadata": {},
   "source": [
    "If we want to investigate other data characteristics, we can do so by changing the code. For example, when we want to research about the median, we can change np.mean to np.meadian."
   ]
  },
  {
   "cell_type": "markdown",
   "id": "62e064e9",
   "metadata": {},
   "source": [
    "Q5"
   ]
  },
  {
   "cell_type": "markdown",
   "id": "3b02b9a9",
   "metadata": {},
   "source": [
    "We need to distinguish between the population parameter and the sample statistic, because the population parameter is the true value that we want to know, but cannot get directly. The sample statistic is calculated from the sample taken and used to estimate the population parameters. The confidence interval speculates on the range of population parameters from the sample statistics, which reflects the uncertainty of the estimate. Distinguishing between them helps to understand that we infer the whole population from the sample, not just from the sample itself."
   ]
  },
  {
   "cell_type": "markdown",
   "id": "2a2e4b95",
   "metadata": {},
   "source": [
    "Q6.1"
   ]
  },
  {
   "cell_type": "markdown",
   "id": "ce4e3f53",
   "metadata": {},
   "source": [
    "The main purpose of the bootstrapping method is to help you understand how much uncertainty there is in the estimates you are calculating. It gives you an idea of how the estimated results might change if you could sample them a few more times. This method is especially useful when you can't get more data, it can give you a better grasp of the reliability of the existing data."
   ]
  },
  {
   "cell_type": "markdown",
   "id": "65b57239",
   "metadata": {},
   "source": [
    "Q6.2"
   ]
  },
  {
   "cell_type": "markdown",
   "id": "0cfae5f9",
   "metadata": {},
   "source": [
    "The main purpose of bootstrapping is to help you understand how much uncertainty there is in the estimates you are calculating. It gives you an idea of how the estimated results might change if you could sample them a few more times. This method is especially useful when you can't get more data, it can give you a better grasp of the reliability of the existing data."
   ]
  },
  {
   "cell_type": "markdown",
   "id": "60b395f3",
   "metadata": {},
   "source": [
    "Q6.3"
   ]
  },
  {
   "cell_type": "markdown",
   "id": "531741c3",
   "metadata": {},
   "source": [
    "If you have a guess about the average of the population, you can use bootstrapping to assess whether that guess is reasonable. First, use your sample to generate many new sample means through bootstrapping. Next, a confidence interval is constructed from these bootstrapping sample means, showing the range in which most of the sample means are located. If your guess is within this confidence interval, then your guess is probably reasonable; But if the guess is outside the range, it may not be accurate based on the available data."
   ]
  },
  {
   "cell_type": "markdown",
   "id": "3a1ce97f",
   "metadata": {},
   "source": [
    "Q7"
   ]
  },
  {
   "cell_type": "markdown",
   "id": "c2f582f1",
   "metadata": {},
   "source": [
    "When the confidence interval contains zero, it means that zero may be a reasonable value for the population mean, so we do not have enough evidence that the population mean is significantly different from zero to reject the null hypothesis. Conversely, when the confidence interval does not contain zero, it means that the population mean is significantly different from zero, so we can reject the null hypothesis that there is some effect or difference."
   ]
  },
  {
   "cell_type": "markdown",
   "id": "31f55760",
   "metadata": {},
   "source": [
    "\n",
    "Here's a summary of our conversation:\n",
    "\n",
    "Standard Deviation vs. Standard Error of the Mean:\n",
    "\n",
    "Standard deviation measures how spread out data points are within a sample.\n",
    "Standard error of the mean (SEM) measures how much the sample mean is expected to vary from the true population mean.\n",
    "Bootstrapping Process:\n",
    "\n",
    "Bootstrapping is a method used to estimate the variability of a statistic by resampling from the data with replacement, creating many new samples.\n",
    "It's useful for building confidence intervals when you have limited data.\n",
    "Purpose of Bootstrapping:\n",
    "\n",
    "Bootstrapping helps us estimate how accurate our sample statistic is by simulating what the population might look like, allowing us to create a confidence interval for the population parameter.\n",
    "Using Bootstrapping to Assess a Hypothesized Mean:\n",
    "\n",
    "By adjusting the sample to match the hypothesized population mean, you can use bootstrapping to simulate whether your hypothesis is plausible.\n",
    "Failing to Reject the Null Hypothesis:\n",
    "\n",
    "A confidence interval that includes zero suggests we fail to reject the null hypothesis because zero is a plausible value for the population parameter, meaning there may be no effect.\n",
    "To reject the null hypothesis, the confidence interval must exclude zero, indicating that the population mean is likely different from zero.\n",
    "\n",
    "https://chatgpt.com/share/66fe0a0c-cbd4-8000-a04b-35f0fed4df87"
   ]
  },
  {
   "cell_type": "markdown",
   "id": "a1830996",
   "metadata": {},
   "source": [
    "Q8"
   ]
  },
  {
   "cell_type": "code",
   "execution_count": 11,
   "id": "1e267dc9",
   "metadata": {},
   "outputs": [
    {
     "name": "stdout",
     "output_type": "stream",
     "text": [
      "Mean Difference (Original Data): 3.3\n",
      "95% Confidence Interval: (0.9, 5.6)\n",
      "The vaccine is effective, as the confidence interval is entirely above 0.\n"
     ]
    },
    {
     "data": {
      "image/png": "[encoded data removed]",
      "text/plain": [
       "<Figure size 640x480 with 1 Axes>"
      ]
     },
     "metadata": {},
     "output_type": "display_data"
    }
   ],
   "source": [
    "import pandas as pd\n",
    "import numpy as np\n",
    "import matplotlib.pyplot as plt\n",
    "\n",
    "# Step 1: Load the data from the provided Google Drive URL\n",
    "url = 'https://drive.google.com/uc?export=download&id=1wTOT4WhkwJHlZjy8hFUDEkquErJTOw9U'\n",
    "df = pd.read_csv(url)\n",
    "\n",
    "# Step 2: Calculate the difference between Final and Initial Health Scores\n",
    "df['HealthScoreDifference'] = df['FinalHealthScore'] - df['InitialHealthScore']\n",
    "\n",
    "# Step 3: Set a random seed for reproducibility\n",
    "np.random.seed(42)  # You can choose any number to ensure reproducibility\n",
    "\n",
    "# Step 4: Define the number of bootstrap samples\n",
    "n_bootstrap = 10000\n",
    "\n",
    "# Step 5: Function to perform bootstrap resampling and calculate the mean difference\n",
    "def bootstrap_mean_diff(data, n_bootstrap):\n",
    "    boot_means = []\n",
    "    for _ in range(n_bootstrap):\n",
    "        boot_sample = np.random.choice(data, size=len(data), replace=True)\n",
    "        boot_means.append(np.mean(boot_sample))\n",
    "    return boot_means\n",
    "\n",
    "# Step 6: Perform bootstrapping on the HealthScoreDifference\n",
    "boot_means = bootstrap_mean_diff(df['HealthScoreDifference'].values, n_bootstrap)\n",
    "\n",
    "# Step 7: Calculate the 95% confidence interval\n",
    "lower_bound = np.percentile(boot_means, 2.5)\n",
    "upper_bound = np.percentile(boot_means, 97.5)\n",
    "\n",
    "# Step 8: Calculate the mean of the original data\n",
    "original_mean_diff = np.mean(df['HealthScoreDifference'])\n",
    "\n",
    "# Step 9: Judge whether the vaccine is effective based on confidence interval\n",
    "if lower_bound > 0:\n",
    "    judgment = \"The vaccine is effective, as the confidence interval is entirely above 0.\"\n",
    "else:\n",
    "    judgment = \"The vaccine may not be effective, as the confidence interval includes or crosses 0.\"\n",
    "\n",
    "# Display results\n",
    "print(f\"Mean Difference (Original Data): {original_mean_diff}\")\n",
    "print(f\"95% Confidence Interval: ({lower_bound}, {upper_bound})\")\n",
    "print(judgment)\n",
    "\n",
    "# Step 10: Optional Visualization\n",
    "plt.hist(boot_means, bins=30, edgecolor='black')\n",
    "plt.axvline(original_mean_diff, color='red', linestyle='dashed', linewidth=2, label='Original Mean')\n",
    "plt.axvline(lower_bound, color='green', linestyle='dashed', linewidth=2, label='95% CI Lower')\n",
    "plt.axvline(upper_bound, color='blue', linestyle='dashed', linewidth=2, label='95% CI Upper')\n",
    "plt.title('Bootstrap Distribution of Health Score Differences')\n",
    "plt.xlabel('Mean Difference (Final - Initial Health Score)')\n",
    "plt.ylabel('Frequency')\n",
    "plt.legend()\n",
    "plt.show()\n"
   ]
  },
  {
   "cell_type": "markdown",
   "id": "4c65513d",
   "metadata": {},
   "source": [
    "\n",
    "Here's a summary of our conversation:\n",
    "\n",
    "Data Loading:\n",
    "\n",
    "We started with a dataset related to health scores before and after a vaccine.\n",
    "You provided a CSV dataset from AliTech, and we explored it using Python.\n",
    "Bootstrapping Analysis:\n",
    "\n",
    "I demonstrated how to use bootstrapping to assess the effectiveness of the vaccine by comparing the initial and final health scores of patients.\n",
    "We calculated the mean difference and generated a 95% confidence interval using 10,000 bootstrap samples.\n",
    "Results:\n",
    "\n",
    "The analysis showed a mean improvement of 3.3 points in health scores after the vaccine, with a 95% confidence interval ranging from 0.8 to 5.5, indicating that the vaccine is effective.\n",
    "Reproducibility:\n",
    "\n",
    "You asked about ensuring reproducibility using random functions, and I updated the code to include np.random.seed() to ensure consistent results across different runs.\n",
    "Final Code:\n",
    "\n",
    "The final code involved loading data from an online CSV (Google Drive link), performing bootstrapping, making the analysis reproducible with np.random.seed(), and concluding that the vaccine is effective based on the confidence interval.\n",
    "\n",
    "https://chatgpt.com/share/66fe122a-cc98-8000-bffe-eaf068ad77e1"
   ]
  },
  {
   "cell_type": "markdown",
   "id": "f0ab4d8f",
   "metadata": {},
   "source": [
    "Q9"
   ]
  },
  {
   "cell_type": "markdown",
   "id": "073ec329",
   "metadata": {},
   "source": [
    "Yes"
   ]
  }
 ],
 "metadata": {
  "kernelspec": {
   "display_name": "Python 3 (ipykernel)",
   "language": "python",
   "name": "python3"
  },
  "language_info": {
   "codemirror_mode": {
    "name": "ipython",
    "version": 3
   },
   "file_extension": ".py",
   "mimetype": "text/x-python",
   "name": "python",
   "nbconvert_exporter": "python",
   "pygments_lexer": "ipython3",
   "version": "3.11.6"
  }
 },
 "nbformat": 4,
 "nbformat_minor": 5
}
