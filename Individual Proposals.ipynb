{
 "cells": [
  {
   "cell_type": "markdown",
   "id": "0e4dea60",
   "metadata": {},
   "source": [
    "# 1"
   ]
  },
  {
   "attachments": {},
   "cell_type": "markdown",
   "id": "d80bef75",
   "metadata": {},
   "source": [
    "\n",
    "### Topic: The Association Between Age and COVID-19 Vaccination\n",
    "### Variables: COVID_vaccinate (vaccination status) and DEMO_age (age)\n",
    "\n",
    "### Visualization: Bar Chart\n",
    "All respondents are divided into four age groups:\n",
    "\n",
    "Adolescent (0-20 years old)/\n",
    "Adult (20-40 years old)/\n",
    "Middle-aged (40-60 years old)/\n",
    "Elderly (60 years and above)\n",
    "In the chart:\n",
    "\n",
    "X-axis: Age groups\n",
    "\n",
    "Y-axis: Number of respondents\n",
    "\n",
    "Each age group has two bars:\n",
    "Red bar for those not vaccinated\n",
    "Blue bar for those vaccinated\n",
    "\n",
    "### Analysis: P-value Test\n",
    "We used a P-value test to examine whether there is a statistically significant association between age groups and willingness to vaccinate. This test assessed if the distribution of willingness to vaccinate differs across age groups. A significant result (p < 0.05) would indicate that age group is associated with vaccination willingness, helping identify age demographics that might require targeted public health initiatives."
   ]
  },
  {
   "cell_type": "markdown",
   "id": "b66be42b",
   "metadata": {},
   "source": [
    "# 2"
   ]
  },
  {
   "cell_type": "markdown",
   "id": "f4e97388",
   "metadata": {},
   "source": [
    "### Topic: The Influence of Educational Level on Financial Satisfaction\n",
    "### Variables: DEMO_education_level (educational level) and FINANCES_satisfaction (financial satisfaction score)\n",
    "\n",
    "### Visualization: Bar Chart\n",
    "Respondents are categorized based on educational attainment:\n",
    "\n",
    "High school or less/\n",
    "Some college/\n",
    "Bachelor's degree/\n",
    "Graduate degree\n",
    "\n",
    "In the chart:\n",
    "\n",
    "X-axis: Educational level\n",
    "\n",
    "Y-axis: Average financial satisfaction score\n",
    "\n",
    "Each bar represents the average financial satisfaction for each education level.\n",
    "\n",
    "### Analysis: Bootstrapping for Confidence Intervals\n",
    "Bootstrapping was used to estimate 95% confidence intervals for the financial satisfaction score within each education level. By repeatedly sampling each education group, we generated a distribution of financial satisfaction scores and calculated confidence intervals. Comparing these intervals helps determine if educational level significantly impacts financial satisfaction. Non-overlapping intervals between groups would suggest meaningful differences in satisfaction, possibly indicating a relationship between higher education and financial well-being."
   ]
  },
  {
   "cell_type": "markdown",
   "id": "6b4beaa3",
   "metadata": {},
   "source": [
    "# 3"
   ]
  },
  {
   "cell_type": "markdown",
   "id": "f2b59be9",
   "metadata": {},
   "source": [
    "### Topic: The Effect of Physical Activity Level on Self-reported Health Status\n",
    "### Variables: EXERCISE_activity_level (physical activity level) and WELLNESS_health_status (self-reported health status)\n",
    "\n",
    "### Visualization: Bar Chart\n",
    "Respondents are divided based on physical activity levels:\n",
    "\n",
    "Low activity (minimal weekly exercise)/\n",
    "Moderate activity (exercise a few times a week)/\n",
    "High activity (daily exercise)\n",
    "\n",
    "In the chart:\n",
    "\n",
    "X-axis: Physical activity level\n",
    "\n",
    "Y-axis: Average health status score\n",
    "\n",
    "Each bar represents a group color-coded by health status level (e.g., green for high, yellow for moderate, red for low).\n",
    "### Analysis: Linear Regression\n",
    "\n",
    "A linear regression model was applied to investigate the relationship between physical activity level (predictor variable) and self-reported health status (outcome variable). The model provides a regression coefficient that indicates the degree of change in health status associated with each level increase in physical activity. A positive and significant coefficient would suggest that higher physical activity levels are associated with improved health status, highlighting the potential health benefits of regular exercise."
   ]
  }
 ],
 "metadata": {
  "kernelspec": {
   "display_name": "Python 3 (ipykernel)",
   "language": "python",
   "name": "python3"
  },
  "language_info": {
   "codemirror_mode": {
    "name": "ipython",
    "version": 3
   },
   "file_extension": ".py",
   "mimetype": "text/x-python",
   "name": "python",
   "nbconvert_exporter": "python",
   "pygments_lexer": "ipython3",
   "version": "3.11.6"
  }
 },
 "nbformat": 4,
 "nbformat_minor": 5
}
